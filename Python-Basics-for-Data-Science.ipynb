{
 "cells": [
  {
   "cell_type": "markdown",
   "id": "c1bb91fd-f489-47d4-8f12-784b162bca44",
   "metadata": {},
   "source": [
    "### **Python-Basics-for-Data-Science - May 21, 2025**\r",
    "- ##### **Week One: this file contains the following operation**\n",
    "  -  Variables,\n",
    "  -  Data types,\n",
    "  -  Basic operations, and\n",
    "  -  Python syntax."
   ]
  },
  {
   "cell_type": "markdown",
   "id": "34c801d5-a88a-4afb-b829-3fe41582001a",
   "metadata": {},
   "source": [
    "##### **Variables:**\n",
    "- Python variables are simply containers for storing data values. Unlike other languages, such as Java, Python has no command for declaring a variable, so you create one the moment you first assign a value to it.\n",
    "\n",
    "##### Examples:"
   ]
  },
  {
   "cell_type": "code",
   "execution_count": 1,
   "id": "b0f58134-6788-4690-8a88-ea30be5877a4",
   "metadata": {},
   "outputs": [
    {
     "data": {
      "text/plain": [
       "10"
      ]
     },
     "execution_count": 1,
     "metadata": {},
     "output_type": "execute_result"
    }
   ],
   "source": [
    "var_1 = 5 #integer variable\n",
    "var_2 = 2 #integer variable\n",
    "\n",
    "var_3 = var_1 * var_2\n",
    "var_3"
   ]
  },
  {
   "cell_type": "code",
   "execution_count": 2,
   "id": "7d62c9a3-80bc-4c70-bbef-d1a86ab71a2d",
   "metadata": {},
   "outputs": [
    {
     "name": "stdout",
     "output_type": "stream",
     "text": [
      "600\n"
     ]
    }
   ],
   "source": [
    "#Trying to add two numbers\n",
    "# one \"=\" is to assign a value to a variable\n",
    "# In this case, alphabets are variables and numbers are values\n",
    "# Variables cannot begin with numbers\n",
    "\n",
    "a = 20\n",
    "b = 30\n",
    "c = a*b\n",
    "\n",
    "print(a if a >= b else b if b == a else c)"
   ]
  },
  {
   "cell_type": "markdown",
   "id": "25f703d6-5752-4ca3-a559-bfea0dc2afd9",
   "metadata": {},
   "source": [
    "##### **Python Basics**\n",
    "1. Work with variables\n",
    "2. Perform basic operations\n",
    "3. Use list to store multiple values"
   ]
  },
  {
   "cell_type": "code",
   "execution_count": 3,
   "id": "a284a409-2a9b-47fb-9d20-4a0df04164d9",
   "metadata": {},
   "outputs": [
    {
     "name": "stdout",
     "output_type": "stream",
     "text": [
      "16 love 3.0 20 20 20.0 True\n"
     ]
    }
   ],
   "source": [
    "# Python Variables\n",
    "# Variables are containers for storing data values. Examples\n",
    "\n",
    "a = 16                # int var\n",
    "b = \"love\"            # str var\n",
    "c = 3.0               # float var\n",
    "\n",
    "d = int(20)\n",
    "e = str(20)\n",
    "f = float(20)\n",
    "g = True #boolean T/F\n",
    "\n",
    "print(a,b,c,d,e,f,g)"
   ]
  },
  {
   "cell_type": "code",
   "execution_count": 4,
   "id": "df339014-b638-458c-91c6-7ccd7161cf52",
   "metadata": {},
   "outputs": [
    {
     "name": "stdout",
     "output_type": "stream",
     "text": [
      "<class 'int'> <class 'str'> <class 'float'> <class 'int'> <class 'str'> <class 'float'> <class 'bool'>\n"
     ]
    }
   ],
   "source": [
    "# Veryfying the data types\n",
    "print(type(a),type(b),type(c),type(d),type(e),type(f),type(g))"
   ]
  },
  {
   "cell_type": "code",
   "execution_count": 5,
   "id": "7d129b69-7257-4e18-bb3c-03778dbdbcb6",
   "metadata": {},
   "outputs": [
    {
     "name": "stdout",
     "output_type": "stream",
     "text": [
      "30 -10 2 200\n"
     ]
    }
   ],
   "source": [
    "#Basic operations\n",
    "a = 10\n",
    "b = 20\n",
    "c = 5\n",
    "\n",
    "sum = a+b\n",
    "sub = a-b\n",
    "div = b//a\n",
    "mult = a*b\n",
    "\n",
    "print(sum,sub,div,mult)"
   ]
  },
  {
   "cell_type": "code",
   "execution_count": 6,
   "id": "2b5bf4a1-cb0a-46c3-8f20-9236636eb14f",
   "metadata": {},
   "outputs": [
    {
     "data": {
      "text/plain": [
       "'lateef'"
      ]
     },
     "execution_count": 6,
     "metadata": {},
     "output_type": "execute_result"
    }
   ],
   "source": [
    "#Assigning many values to multiple variables\n",
    "a, b, c = \"lateef\", \"mutiat\", \"children\"\n",
    "\n",
    "a"
   ]
  },
  {
   "cell_type": "code",
   "execution_count": 7,
   "id": "428e6e74-aef2-474f-9be2-bcce47bab027",
   "metadata": {},
   "outputs": [
    {
     "name": "stdout",
     "output_type": "stream",
     "text": [
      "This is a list: ['apple', 'banana', 'cherry', 'mango', 'orange'] orange\n",
      "The length of my list is: 5\n"
     ]
    }
   ],
   "source": [
    "#Class work\n",
    "#Create a list with fruit names in it\n",
    "#then print that using this line of statement\n",
    "#\"This is a list\"\n",
    "\n",
    "#Answer\n",
    "my_list = [\"apple\", \"banana\", \"cherry\", \"mango\", \"orange\"]\n",
    "print(\"This is a list:\",my_list, my_list[4])\n",
    "print(\"The length of my list is:\",len(my_list))"
   ]
  },
  {
   "cell_type": "markdown",
   "id": "bc70c80e-76ee-4920-a5b8-cc1567d35446",
   "metadata": {},
   "source": [
    "### Data Structure\n",
    "#####  **Python List Class**"
   ]
  },
  {
   "cell_type": "code",
   "execution_count": 11,
   "id": "1eeec613-5984-4a90-b567-acd31690d806",
   "metadata": {},
   "outputs": [
    {
     "data": {
      "text/plain": [
       "[2, 34, 'a', 'b', True, False]"
      ]
     },
     "execution_count": 11,
     "metadata": {},
     "output_type": "execute_result"
    }
   ],
   "source": [
    "#Creating a list for practice\n",
    "l1 = list((2,34,'a','b',True, False))\n",
    "\n",
    "#printing my list\n",
    "l1"
   ]
  },
  {
   "cell_type": "code",
   "execution_count": 12,
   "id": "8724b9d1-0110-4fca-82b7-cb7bd2e6c51c",
   "metadata": {},
   "outputs": [
    {
     "data": {
      "text/plain": [
       "('a', ['a', 'b', True])"
      ]
     },
     "execution_count": 12,
     "metadata": {},
     "output_type": "execute_result"
    }
   ],
   "source": [
    "#Accessing my list index\n",
    "\n",
    "l1[2], l1[-4:-1]"
   ]
  },
  {
   "cell_type": "code",
   "execution_count": null,
   "id": "8ed73776-f73e-4d98-876a-2a2c0ffad5d3",
   "metadata": {},
   "outputs": [],
   "source": []
  },
  {
   "cell_type": "code",
   "execution_count": 13,
   "id": "e7863026-36d6-4236-81db-e1314e9a6a91",
   "metadata": {},
   "outputs": [
    {
     "data": {
      "text/plain": [
       "[2, 34, 'a', 'c', True, False]"
      ]
     },
     "execution_count": 13,
     "metadata": {},
     "output_type": "execute_result"
    }
   ],
   "source": [
    "#Changing element in a python List \n",
    "for b in l1:\n",
    "    l1[3]=\"c\"\n",
    "\n",
    "l1"
   ]
  },
  {
   "cell_type": "code",
   "execution_count": 14,
   "id": "df56b1f4-53d5-4bff-b603-8d68b1b8c234",
   "metadata": {},
   "outputs": [
    {
     "name": "stdout",
     "output_type": "stream",
     "text": [
      "['apple', 'orange', 'goave', 'kiwi', 'mango', 'banana', 'pear']\n"
     ]
    }
   ],
   "source": [
    "#insert method in a List\n",
    "fruits = ['apple','orange','kiwi', 'mango', 'banana', 'pear']\n",
    "\n",
    "fruits.insert(2, 'goave') #Using insert function to add a value\n",
    "print(fruits) #Printing "
   ]
  },
  {
   "cell_type": "code",
   "execution_count": 15,
   "id": "e64a3434-4190-471c-b85e-cabc12a17616",
   "metadata": {},
   "outputs": [
    {
     "data": {
      "text/plain": [
       "['apple', 'orange', 'goave', 'kiwi', 'mango', 'banana', 'pear', 'tangarin']"
      ]
     },
     "execution_count": 15,
     "metadata": {},
     "output_type": "execute_result"
    }
   ],
   "source": [
    "#adding a value at the end of my List\n",
    "fruits.append(\"tangarin\")\n",
    "\n",
    "fruits"
   ]
  },
  {
   "cell_type": "code",
   "execution_count": 16,
   "id": "a76f0783-3e93-45f8-9899-c1dc489fc836",
   "metadata": {},
   "outputs": [
    {
     "data": {
      "text/plain": [
       "['tom', 'bob', 'shawn', 'andy', 'rob', 'john', 'peter']"
      ]
     },
     "execution_count": 16,
     "metadata": {},
     "output_type": "execute_result"
    }
   ],
   "source": [
    "#To add a new list to my original List\n",
    "emp=['tom', 'bob', 'shawn', 'andy']\n",
    "new_emp = ['rob','john','peter']\n",
    "\n",
    "#concat the lists\n",
    "emp+new_emp"
   ]
  },
  {
   "cell_type": "code",
   "execution_count": 17,
   "id": "8201b17d-2060-4e98-b9c3-b8f30fe791c6",
   "metadata": {},
   "outputs": [
    {
     "data": {
      "text/plain": [
       "['tom', 'bob', 'shawn', 'andy', 'rob', 'john', 'peter']"
      ]
     },
     "execution_count": 17,
     "metadata": {},
     "output_type": "execute_result"
    }
   ],
   "source": [
    "#Another method is extend function to join the values\n",
    "emp.extend(new_emp)\n",
    "\n",
    "emp"
   ]
  },
  {
   "cell_type": "code",
   "execution_count": 18,
   "id": "500fc913-5162-4f51-b341-f010f365aa4d",
   "metadata": {},
   "outputs": [
    {
     "data": {
      "text/plain": [
       "['tom', 'bob', 'shawn', 'andy', 'andy', 'rob', 'john', 'peter']"
      ]
     },
     "execution_count": 18,
     "metadata": {},
     "output_type": "execute_result"
    }
   ],
   "source": [
    "#To add another value\n",
    "emp.insert(3, 'andy')\n",
    "\n",
    "emp"
   ]
  },
  {
   "cell_type": "code",
   "execution_count": 19,
   "id": "222b2b7b-79c1-467b-8327-2a6971846223",
   "metadata": {},
   "outputs": [
    {
     "data": {
      "text/plain": [
       "['tom', 'bob', 'shawn', 'andy', 'rob', 'john', 'peter']"
      ]
     },
     "execution_count": 19,
     "metadata": {},
     "output_type": "execute_result"
    }
   ],
   "source": [
    "#Removing a value\n",
    "emp.remove('andy')\n",
    "emp"
   ]
  },
  {
   "cell_type": "code",
   "execution_count": 20,
   "id": "c9981435-8476-460b-bd6f-60c234c8255f",
   "metadata": {},
   "outputs": [],
   "source": [
    "#Python Filter is an approach to remove many same words"
   ]
  },
  {
   "cell_type": "code",
   "execution_count": 21,
   "id": "326cd295-e7c4-4a65-80e5-eb5c5d9af65c",
   "metadata": {},
   "outputs": [
    {
     "data": {
      "text/plain": [
       "['tom', 'bob', 'andy', 'rob', 'john', 'peter']"
      ]
     },
     "execution_count": 21,
     "metadata": {},
     "output_type": "execute_result"
    }
   ],
   "source": [
    "#removing an element using index position using del function\n",
    "del emp[2]\n",
    "emp"
   ]
  },
  {
   "cell_type": "code",
   "execution_count": 22,
   "id": "01e835fb-a6db-401b-be00-d4420ff036f8",
   "metadata": {},
   "outputs": [
    {
     "data": {
      "text/plain": [
       "['tom', 'rob', 'peter', 'john', 'bob', 'andy']"
      ]
     },
     "execution_count": 22,
     "metadata": {},
     "output_type": "execute_result"
    }
   ],
   "source": [
    "#Using pop function to remove more than a value (Working on this later)\n",
    "#Sorting my list\n",
    "\n",
    "emp.sort()\n",
    "emp.sort(reverse=True)\n",
    "\n",
    "emp"
   ]
  },
  {
   "cell_type": "code",
   "execution_count": 23,
   "id": "f4191963-3486-4c6d-bba5-52a8ebce653e",
   "metadata": {},
   "outputs": [
    {
     "data": {
      "text/plain": [
       "'acc'"
      ]
     },
     "execution_count": 23,
     "metadata": {},
     "output_type": "execute_result"
    }
   ],
   "source": [
    "#another example\n",
    "dept=['hr', ['acc','it'], 'acc', 'math']\n",
    "\n",
    "dept[1][0]"
   ]
  },
  {
   "cell_type": "code",
   "execution_count": 24,
   "id": "a1f949fc-6b8d-4bc5-9532-85e67c9f1ade",
   "metadata": {},
   "outputs": [],
   "source": [
    "#Creating pop variable for later use\n",
    "emp_pop=emp.pop(2)"
   ]
  },
  {
   "cell_type": "code",
   "execution_count": 25,
   "id": "82fa5873-b484-417f-a0f8-c3f32205583c",
   "metadata": {},
   "outputs": [
    {
     "data": {
      "text/plain": [
       "'peter'"
      ]
     },
     "execution_count": 25,
     "metadata": {},
     "output_type": "execute_result"
    }
   ],
   "source": [
    "emp_pop"
   ]
  },
  {
   "cell_type": "code",
   "execution_count": 116,
   "id": "ec5c1e34-5004-4e45-bcca-9aa724660cd1",
   "metadata": {},
   "outputs": [
    {
     "data": {
      "text/plain": [
       "['tom', 'rob', 'bob', 'andy']"
      ]
     },
     "execution_count": 116,
     "metadata": {},
     "output_type": "execute_result"
    }
   ],
   "source": [
    "emp"
   ]
  },
  {
   "cell_type": "markdown",
   "id": "7b1aacd9-9331-44c5-ae3f-13893edcc08c",
   "metadata": {},
   "source": [
    "#### **Another Data Structure**\n",
    "\n",
    "**################ Tupple ###############**"
   ]
  },
  {
   "cell_type": "code",
   "execution_count": 117,
   "id": "70c272e6-7894-4267-bf0b-7be44b2064b0",
   "metadata": {},
   "outputs": [
    {
     "data": {
      "text/plain": [
       "tuple"
      ]
     },
     "execution_count": 117,
     "metadata": {},
     "output_type": "execute_result"
    }
   ],
   "source": [
    "t1 = (1,2,3,'hello',78.9,True,False)\n",
    "type(t1)"
   ]
  },
  {
   "cell_type": "code",
   "execution_count": 172,
   "id": "9bf6cdad-3192-4fb7-8112-be7f099a327c",
   "metadata": {},
   "outputs": [
    {
     "data": {
      "text/plain": [
       "tuple"
      ]
     },
     "execution_count": 172,
     "metadata": {},
     "output_type": "execute_result"
    }
   ],
   "source": [
    "t2 = tuple((1,2,3,'hello',78.9,True,False))\n",
    "\n",
    "type(t2)"
   ]
  },
  {
   "cell_type": "code",
   "execution_count": 173,
   "id": "de5b2ae3-b4eb-4985-aa45-13065ae871c9",
   "metadata": {},
   "outputs": [
    {
     "data": {
      "text/plain": [
       "(2, 3, 'hello')"
      ]
     },
     "execution_count": 173,
     "metadata": {},
     "output_type": "execute_result"
    }
   ],
   "source": [
    "#accessing an element from the tuple\n",
    "t2[1:4]"
   ]
  },
  {
   "cell_type": "code",
   "execution_count": 174,
   "id": "fbc6473b-901d-48c3-aecd-0cbe4b312ffc",
   "metadata": {},
   "outputs": [
    {
     "data": {
      "text/plain": [
       "(1, 2, 3, 'welcome', 78.9, True, False)"
      ]
     },
     "execution_count": 174,
     "metadata": {},
     "output_type": "execute_result"
    }
   ],
   "source": [
    "#manipulating a tuple\n",
    "x=list(t2) #changing a tuple to a list data structure to enable manipulation\n",
    "\n",
    "x[3]='welcome'\n",
    "t2=tuple(x)\n",
    "\n",
    "t2"
   ]
  },
  {
   "cell_type": "code",
   "execution_count": 175,
   "id": "da657210-926c-47b2-9420-0cd2c476d040",
   "metadata": {},
   "outputs": [
    {
     "data": {
      "text/plain": [
       "[1, 2, 3, 'hello', 78.9, True, False]"
      ]
     },
     "execution_count": 175,
     "metadata": {},
     "output_type": "execute_result"
    }
   ],
   "source": [
    "#manipulating tuple\n",
    "\n",
    "y=list(t1)\n",
    "y"
   ]
  },
  {
   "cell_type": "code",
   "execution_count": 176,
   "id": "e03c9dc0-4bb7-4527-aa62-d9d8c4f0d26e",
   "metadata": {},
   "outputs": [
    {
     "data": {
      "text/plain": [
       "[1, 2, 'Lateef', 3, 'hello', 78.9, True, False]"
      ]
     },
     "execution_count": 176,
     "metadata": {},
     "output_type": "execute_result"
    }
   ],
   "source": [
    "y.insert(2,'Lateef') #insertion a value into my new list\n",
    "y"
   ]
  },
  {
   "cell_type": "code",
   "execution_count": 177,
   "id": "a15e1572-1098-40ac-8e45-0fef6e1f5687",
   "metadata": {},
   "outputs": [
    {
     "data": {
      "text/plain": [
       "[1, 2, 'Lateef', 3, 78.9, True, False]"
      ]
     },
     "execution_count": 177,
     "metadata": {},
     "output_type": "execute_result"
    }
   ],
   "source": [
    "del y[4]\n",
    "y"
   ]
  },
  {
   "cell_type": "code",
   "execution_count": 178,
   "id": "1ca0e9ac-d9b5-4e06-b831-adf9b44e986a",
   "metadata": {},
   "outputs": [
    {
     "data": {
      "text/plain": [
       "3"
      ]
     },
     "execution_count": 178,
     "metadata": {},
     "output_type": "execute_result"
    }
   ],
   "source": [
    "li_pop = y.pop(3)\n",
    "\n",
    "li_pop"
   ]
  },
  {
   "cell_type": "code",
   "execution_count": 179,
   "id": "22a427af-45c0-41c2-b611-b4b115189a70",
   "metadata": {},
   "outputs": [
    {
     "data": {
      "text/plain": [
       "(1, 2, 'Lateef', 78.9, True, False)"
      ]
     },
     "execution_count": 179,
     "metadata": {},
     "output_type": "execute_result"
    }
   ],
   "source": [
    "t2=tuple(y)\n",
    "t2"
   ]
  },
  {
   "cell_type": "code",
   "execution_count": 180,
   "id": "829e0fe5-e258-4d2a-8ac6-d23fe02740ae",
   "metadata": {},
   "outputs": [
    {
     "data": {
      "text/plain": [
       "[2, 'Lateef', 78.9, True, False, 'Khadijah']"
      ]
     },
     "execution_count": 180,
     "metadata": {},
     "output_type": "execute_result"
    }
   ],
   "source": [
    "z = list(t2)\n",
    "z.remove(1)\n",
    "z.append('Khadijah')\n",
    "\n",
    "z"
   ]
  },
  {
   "cell_type": "markdown",
   "id": "f2605803-4a86-40f3-b150-0c8672d88aa3",
   "metadata": {},
   "source": [
    "#### **Unpacking a tuple**"
   ]
  },
  {
   "cell_type": "code",
   "execution_count": 181,
   "id": "dd45bfb7-e7ab-43df-987b-095c24faeeda",
   "metadata": {},
   "outputs": [
    {
     "data": {
      "text/plain": [
       "tuple"
      ]
     },
     "execution_count": 181,
     "metadata": {},
     "output_type": "execute_result"
    }
   ],
   "source": [
    "#unpacking a tuple: assigning the element of a tuple to a variable\n",
    "\n",
    "fruits = ('apple','orange','kiwi', 'mango', 'banana', 'pear')\n",
    "\n",
    "type(fruits)"
   ]
  },
  {
   "cell_type": "code",
   "execution_count": 182,
   "id": "16443df4-4763-4128-906e-343b9ae32e42",
   "metadata": {},
   "outputs": [],
   "source": [
    "#unpacking tuple: the asteric sign assign other values into variable \"b\"\n",
    "a,*b,c = fruits"
   ]
  },
  {
   "cell_type": "code",
   "execution_count": 183,
   "id": "6cfbd02b-a57e-4d36-aa5b-40b87b605d31",
   "metadata": {},
   "outputs": [
    {
     "data": {
      "text/plain": [
       "['orange', 'kiwi', 'mango', 'banana']"
      ]
     },
     "execution_count": 183,
     "metadata": {},
     "output_type": "execute_result"
    }
   ],
   "source": [
    "b"
   ]
  },
  {
   "cell_type": "code",
   "execution_count": 184,
   "id": "e36dbd08-c0ee-4bf1-a2a4-04c090add6f0",
   "metadata": {},
   "outputs": [
    {
     "data": {
      "text/plain": [
       "'apple'"
      ]
     },
     "execution_count": 184,
     "metadata": {},
     "output_type": "execute_result"
    }
   ],
   "source": [
    "a"
   ]
  },
  {
   "cell_type": "code",
   "execution_count": 185,
   "id": "3864697a-0d6c-4a76-ad38-702e3f70ddf8",
   "metadata": {},
   "outputs": [
    {
     "data": {
      "text/plain": [
       "'pear'"
      ]
     },
     "execution_count": 185,
     "metadata": {},
     "output_type": "execute_result"
    }
   ],
   "source": [
    "c"
   ]
  },
  {
   "cell_type": "code",
   "execution_count": 186,
   "id": "1e9242b7-ad29-49ab-80ff-b62570fbe453",
   "metadata": {},
   "outputs": [
    {
     "data": {
      "text/plain": [
       "('apple', 'orange', 'kiwi', 'mango', 'banana', 'pear')"
      ]
     },
     "execution_count": 186,
     "metadata": {},
     "output_type": "execute_result"
    }
   ],
   "source": [
    "#adding tuples\n",
    "fruits"
   ]
  },
  {
   "cell_type": "code",
   "execution_count": 187,
   "id": "794e6097-6680-4559-80a0-438c3841f84e",
   "metadata": {},
   "outputs": [
    {
     "data": {
      "text/plain": [
       "(1, 2, 'Lateef', 78.9, True, False)"
      ]
     },
     "execution_count": 187,
     "metadata": {},
     "output_type": "execute_result"
    }
   ],
   "source": [
    "t2"
   ]
  },
  {
   "cell_type": "code",
   "execution_count": 188,
   "id": "766e4cd6-946e-43be-bb93-ded1c1fd8fe2",
   "metadata": {},
   "outputs": [
    {
     "data": {
      "text/plain": [
       "(1,\n",
       " 2,\n",
       " 'Lateef',\n",
       " 78.9,\n",
       " True,\n",
       " False,\n",
       " 'apple',\n",
       " 'orange',\n",
       " 'kiwi',\n",
       " 'mango',\n",
       " 'banana',\n",
       " 'pear')"
      ]
     },
     "execution_count": 188,
     "metadata": {},
     "output_type": "execute_result"
    }
   ],
   "source": [
    "t3=t2+fruits\n",
    "\n",
    "t3"
   ]
  },
  {
   "cell_type": "code",
   "execution_count": 192,
   "id": "f00d74e8-0e32-4416-8e6a-0a6470f6ddbd",
   "metadata": {},
   "outputs": [
    {
     "data": {
      "text/plain": [
       "2"
      ]
     },
     "execution_count": 192,
     "metadata": {},
     "output_type": "execute_result"
    }
   ],
   "source": [
    "t4=(1,2,3,4,5)\n",
    "\n",
    "t5 = t4*2\n",
    "\n",
    "t5.count(3) #count number of 3 in my tuple"
   ]
  },
  {
   "cell_type": "code",
   "execution_count": 193,
   "id": "10722198-bf5b-4023-8043-eb884ccb9fe3",
   "metadata": {},
   "outputs": [
    {
     "data": {
      "text/plain": [
       "('Lateef', 78.9, True)"
      ]
     },
     "execution_count": 193,
     "metadata": {},
     "output_type": "execute_result"
    }
   ],
   "source": [
    "#Slicing in tuple\n",
    "t3[2:5]"
   ]
  },
  {
   "cell_type": "code",
   "execution_count": 200,
   "id": "0397e553-94be-4e84-8421-b38b66fbb876",
   "metadata": {},
   "outputs": [
    {
     "data": {
      "text/plain": [
       "[1, 2, 3, 4, 5, 6, 7, 8, 9, 1, 2, 3, 4, 5, 6, 7, 8, 9]"
      ]
     },
     "execution_count": 200,
     "metadata": {},
     "output_type": "execute_result"
    }
   ],
   "source": [
    "#Performing mathematical multiplication with tuple\n",
    "tt1 = (1,2,3,4,5,6,7,8,9)\n",
    "\n",
    "t_mult = list(tt1)\n",
    "\n",
    "t_mult2 = int(2)\n",
    "\n",
    "t_mult1=t_mult*t_mult2\n",
    "\n",
    "t_mult1"
   ]
  },
  {
   "cell_type": "markdown",
   "id": "9090ec36-c4c5-40b6-b07e-2deecfca3a8f",
   "metadata": {},
   "source": [
    "#### **Another Data Structure     Sunday, 23rd of February, 2025**\n",
    "\n",
    "**################ Dictionary ###############**"
   ]
  },
  {
   "cell_type": "markdown",
   "id": "debce867-fed4-4806-8ae2-fa1e00e68dd4",
   "metadata": {},
   "source": [
    "#### **What is a python dictionary**\n",
    "\n",
    "- Dictionaries are used to store data values in key:value pairs.\n",
    "- A dictionary is a collection which is ordered*, changeable and do not allow duplicates.\n",
    "- Another word used for a python dictionary is **\"hashmap\"**\n",
    "- We use **{}** to create a dictionry\n",
    "- dictionary accepts duplicate value but does not accepts duplicate keys\n",
    "\n",
    "  \n",
    "### **-Operations on Dictionary**"
   ]
  },
  {
   "cell_type": "code",
   "execution_count": 1,
   "id": "3e7f8757-f9ac-46cd-803c-81281952b13f",
   "metadata": {},
   "outputs": [
    {
     "data": {
      "text/plain": [
       "dict"
      ]
     },
     "execution_count": 1,
     "metadata": {},
     "output_type": "execute_result"
    }
   ],
   "source": [
    "#Example of a Dictionary\n",
    "dict1={'tom':32, 'bob':30, 'andy':31, 'rob':30}\n",
    "type(dict1)"
   ]
  },
  {
   "cell_type": "code",
   "execution_count": 2,
   "id": "e0370504-3548-4436-a2e8-afdf85dcce08",
   "metadata": {},
   "outputs": [
    {
     "data": {
      "text/plain": [
       "4"
      ]
     },
     "execution_count": 2,
     "metadata": {},
     "output_type": "execute_result"
    }
   ],
   "source": [
    "#checking the number of key values in my dictionary (len function)\n",
    "len(dict1)"
   ]
  },
  {
   "cell_type": "code",
   "execution_count": 3,
   "id": "04e3932b-7a6b-4b8f-a26c-045bedc6494a",
   "metadata": {},
   "outputs": [
    {
     "data": {
      "text/plain": [
       "dict"
      ]
     },
     "execution_count": 3,
     "metadata": {},
     "output_type": "execute_result"
    }
   ],
   "source": [
    "#using a contructor called dict\n",
    "dict2 = dict([('acc',10), ('hr',5), ('IT',50)])\n",
    "type(dict2)"
   ]
  },
  {
   "cell_type": "code",
   "execution_count": 4,
   "id": "9de5604f-cc60-481e-8150-fea1b5a6d6eb",
   "metadata": {},
   "outputs": [
    {
     "data": {
      "text/plain": [
       "{'acc': 10, 'hr': 5, 'IT': 50}"
      ]
     },
     "execution_count": 4,
     "metadata": {},
     "output_type": "execute_result"
    }
   ],
   "source": [
    "dict2"
   ]
  },
  {
   "cell_type": "code",
   "execution_count": 5,
   "id": "a50ae250-d6d7-4cec-bfde-7e19caea01bd",
   "metadata": {},
   "outputs": [
    {
     "data": {
      "text/plain": [
       "{'tom': 32, 'bob': 30, 'andy': 31, 'rob': 30}"
      ]
     },
     "execution_count": 5,
     "metadata": {},
     "output_type": "execute_result"
    }
   ],
   "source": [
    "dict1"
   ]
  },
  {
   "cell_type": "code",
   "execution_count": 7,
   "id": "dbb422b4-45df-4c16-8cc5-a55f7b508c81",
   "metadata": {},
   "outputs": [
    {
     "data": {
      "text/plain": [
       "dict"
      ]
     },
     "execution_count": 7,
     "metadata": {},
     "output_type": "execute_result"
    }
   ],
   "source": [
    "#Creating single key with multiple values dictionary\n",
    "emp={'Name':['tom','bob','prince'],\n",
    "    'Dept':['IT', 'ACC', 'Hr'], 'Salary':[798, 687, 575]}\n",
    "type(emp)"
   ]
  },
  {
   "cell_type": "code",
   "execution_count": 8,
   "id": "20f73a85-44cc-4aaa-9d24-f06ab6045d0a",
   "metadata": {},
   "outputs": [
    {
     "data": {
      "text/plain": [
       "['tom', 'bob', 'prince']"
      ]
     },
     "execution_count": 8,
     "metadata": {},
     "output_type": "execute_result"
    }
   ],
   "source": [
    "#How to access element/value from a dictionary\n",
    "#to investigate how many department I have in my dictionary\n",
    "#With this \n",
    "\n",
    "emp['Name']"
   ]
  },
  {
   "cell_type": "code",
   "execution_count": 27,
   "id": "0828dcdc-d800-481b-a447-14a4014cbf91",
   "metadata": {},
   "outputs": [],
   "source": [
    "#using key we can access the value from dictionary\n",
    "#example\n",
    "dict1.get('andy') #using get method to access a value in the dict"
   ]
  },
  {
   "cell_type": "code",
   "execution_count": 37,
   "id": "79d8e05f-660c-43a3-9fb7-c6044b711256",
   "metadata": {},
   "outputs": [
    {
     "data": {
      "text/plain": [
       "dict_keys(['tom', 'bob'])"
      ]
     },
     "execution_count": 37,
     "metadata": {},
     "output_type": "execute_result"
    }
   ],
   "source": [
    "#accessing other keys from the dictionary\n",
    "dict1.keys()"
   ]
  },
  {
   "cell_type": "code",
   "execution_count": 38,
   "id": "0d39bd1e-d250-40d7-af90-93f2e93f0eac",
   "metadata": {},
   "outputs": [
    {
     "data": {
      "text/plain": [
       "dict_values([32, 30])"
      ]
     },
     "execution_count": 38,
     "metadata": {},
     "output_type": "execute_result"
    }
   ],
   "source": [
    "#accessing the values in the dictionary\n",
    "dict1.values()"
   ]
  },
  {
   "cell_type": "code",
   "execution_count": 39,
   "id": "3cf90d58-a185-46ae-9ecf-cfef8dfaa8d3",
   "metadata": {},
   "outputs": [
    {
     "data": {
      "text/plain": [
       "{'tom': 32, 'bob': 30, 'andy': 32}"
      ]
     },
     "execution_count": 39,
     "metadata": {},
     "output_type": "execute_result"
    }
   ],
   "source": [
    "#How to change a value in a dictionary\n",
    "dict1['andy']=32\n",
    "dict1"
   ]
  },
  {
   "cell_type": "code",
   "execution_count": 40,
   "id": "a560f252-7a04-42df-9ce9-b0d8ff2c60fe",
   "metadata": {},
   "outputs": [
    {
     "data": {
      "text/plain": [
       "{'tom': 32, 'bob': 30, 'andy': 32, 'rob': 35}"
      ]
     },
     "execution_count": 40,
     "metadata": {},
     "output_type": "execute_result"
    }
   ],
   "source": [
    "#To update a value in my dictionary\n",
    "dict1.update({'rob':35})\n",
    "dict1"
   ]
  },
  {
   "cell_type": "code",
   "execution_count": 41,
   "id": "70bd36cc-4b54-4da8-b72e-f205c1ad8a03",
   "metadata": {},
   "outputs": [
    {
     "data": {
      "text/plain": [
       "{'tom': 32, 'bob': 30, 'rob': 35}"
      ]
     },
     "execution_count": 41,
     "metadata": {},
     "output_type": "execute_result"
    }
   ],
   "source": [
    "#deleting a value from the dictionary\n",
    "del dict1['andy']\n",
    "dict1"
   ]
  },
  {
   "cell_type": "code",
   "execution_count": 42,
   "id": "890e49fb-6428-4a2c-a1ff-152ea350e64b",
   "metadata": {},
   "outputs": [],
   "source": [
    "#Popping a key from the dictionary\n",
    "pop_rob = dict1.pop('rob')"
   ]
  },
  {
   "cell_type": "code",
   "execution_count": 43,
   "id": "9f63490d-f3df-4c0c-baa3-b5b19279c71d",
   "metadata": {},
   "outputs": [
    {
     "data": {
      "text/plain": [
       "35"
      ]
     },
     "execution_count": 43,
     "metadata": {},
     "output_type": "execute_result"
    }
   ],
   "source": [
    "pop_rob"
   ]
  },
  {
   "cell_type": "code",
   "execution_count": 44,
   "id": "80180334-c193-461a-9347-004bd4a9f211",
   "metadata": {},
   "outputs": [
    {
     "data": {
      "text/plain": [
       "{'tom': 32, 'bob': 30}"
      ]
     },
     "execution_count": 44,
     "metadata": {},
     "output_type": "execute_result"
    }
   ],
   "source": [
    "dict1"
   ]
  },
  {
   "cell_type": "code",
   "execution_count": 45,
   "id": "af483d8d-cd83-410a-a415-ee6952f44621",
   "metadata": {},
   "outputs": [
    {
     "data": {
      "text/plain": [
       "{'tom': 32, 'bob': 30}"
      ]
     },
     "execution_count": 45,
     "metadata": {},
     "output_type": "execute_result"
    }
   ],
   "source": [
    "#How to copy a dictionary\n",
    "dict3 = dict1.copy()\n",
    "\n",
    "dict3"
   ]
  },
  {
   "cell_type": "code",
   "execution_count": 46,
   "id": "a3d4bba8-0f48-416e-bbe8-7f7753829cd8",
   "metadata": {},
   "outputs": [
    {
     "data": {
      "text/plain": [
       "{'tom': 32, 'bob': 30, 'thor': 34}"
      ]
     },
     "execution_count": 46,
     "metadata": {},
     "output_type": "execute_result"
    }
   ],
   "source": [
    "#updating a dictionary\n",
    "dict3.update({'thor':34})\n",
    "dict3"
   ]
  },
  {
   "cell_type": "code",
   "execution_count": 47,
   "id": "4282fe3d-3049-4c40-847f-cb6f7b6253b5",
   "metadata": {},
   "outputs": [
    {
     "data": {
      "text/plain": [
       "{'tom': 32, 'bob': 30}"
      ]
     },
     "execution_count": 47,
     "metadata": {},
     "output_type": "execute_result"
    }
   ],
   "source": [
    "dict1"
   ]
  },
  {
   "cell_type": "code",
   "execution_count": 49,
   "id": "9aa163b5-86c2-4603-bd17-3c52f8db8fe8",
   "metadata": {},
   "outputs": [],
   "source": [
    "#updating the dict1\n",
    "dict1.update({'lateef':40, 'mutiat':32})"
   ]
  },
  {
   "cell_type": "code",
   "execution_count": 50,
   "id": "956aa315-fc62-4b55-b113-f65e697fb76a",
   "metadata": {},
   "outputs": [
    {
     "data": {
      "text/plain": [
       "{'tom': 32, 'bob': 30, 'lateef': 40, 'mutiat': 32}"
      ]
     },
     "execution_count": 50,
     "metadata": {},
     "output_type": "execute_result"
    }
   ],
   "source": [
    "dict1"
   ]
  },
  {
   "cell_type": "code",
   "execution_count": 51,
   "id": "755bd1f4-629f-46bf-ae9f-bcc4f9dc4469",
   "metadata": {},
   "outputs": [],
   "source": [
    "#adding more keys and values\n",
    "dict1['khadijah']=9\n",
    "dict1['abdullah']=6"
   ]
  },
  {
   "cell_type": "code",
   "execution_count": 52,
   "id": "5d406aa4-5971-4dca-a2ee-7e2f22ab00ed",
   "metadata": {},
   "outputs": [
    {
     "data": {
      "text/plain": [
       "{'tom': 32,\n",
       " 'bob': 30,\n",
       " 'lateef': 40,\n",
       " 'mutiat': 32,\n",
       " 'khadijah': 9,\n",
       " 'abdullah': 6}"
      ]
     },
     "execution_count": 52,
     "metadata": {},
     "output_type": "execute_result"
    }
   ],
   "source": [
    "dict1"
   ]
  },
  {
   "cell_type": "code",
   "execution_count": 53,
   "id": "1ba7f12d-6a3f-4fcd-ad29-b89201c587ec",
   "metadata": {},
   "outputs": [
    {
     "data": {
      "text/plain": [
       "{'k1': (0, 1, 2), 'k2': (0, 1, 2), 'k3': (0, 1, 2)}"
      ]
     },
     "execution_count": 53,
     "metadata": {},
     "output_type": "execute_result"
    }
   ],
   "source": [
    "#another way to create a dictionary\n",
    "x = ('k1', 'k2','k3')\n",
    "y = (0,1,2)\n",
    "\n",
    "dict4 = dict.fromkeys(x,y)\n",
    "dict4"
   ]
  },
  {
   "cell_type": "markdown",
   "id": "68bffd66-5ea9-41d1-b192-d185628bed34",
   "metadata": {},
   "source": [
    "#### **Another Data Structure     Sunday, 23rd of February, 2025**\n",
    "\n",
    "**################ Set ###############**"
   ]
  },
  {
   "cell_type": "markdown",
   "id": "6d0addd8-fb39-4305-89b9-1116cdd5e86d",
   "metadata": {},
   "source": [
    "## **What is a python set**\n",
    "\n",
    "**Sets are used to store multiple items in a single variable.**\n",
    "\n",
    " - Set is one of 4 built-in data types in Python used to store collections of data, the other 3 are List, Tuple, and Dictionary, all with different qualities and usage.\n",
    " - A set is a collection which is unordered, unchangeable*, and unindexed."
   ]
  },
  {
   "cell_type": "code",
   "execution_count": 66,
   "id": "8126cd8c-326c-47c1-a3fb-63542f2d935d",
   "metadata": {},
   "outputs": [],
   "source": [
    "#Creating a set using set con\n",
    "set1 = set({1,2,3,4,5,\"hello\",67.6,True,False})"
   ]
  },
  {
   "cell_type": "code",
   "execution_count": 67,
   "id": "ff1a43c1-5115-45ef-ad36-fa74a548b676",
   "metadata": {},
   "outputs": [
    {
     "data": {
      "text/plain": [
       "{1, 2, 3, 4, 5, 67.6, False, 'hello'}"
      ]
     },
     "execution_count": 67,
     "metadata": {},
     "output_type": "execute_result"
    }
   ],
   "source": [
    "set1"
   ]
  },
  {
   "cell_type": "code",
   "execution_count": 68,
   "id": "a8760f08-89f2-4f1c-bce7-199b1353a677",
   "metadata": {},
   "outputs": [],
   "source": [
    "#another way \n",
    "set2 = {1,2,3,4,5,\"hello\",67.6,True,False}"
   ]
  },
  {
   "cell_type": "code",
   "execution_count": 69,
   "id": "5a9f03d1-486f-4471-9dbf-d780bad659a0",
   "metadata": {},
   "outputs": [],
   "source": [
    "#adding a value ot the set\n",
    "set2.add('banana')"
   ]
  },
  {
   "cell_type": "code",
   "execution_count": 70,
   "id": "ce71fd81-de51-4c88-a46e-6bf6f7f52e7c",
   "metadata": {},
   "outputs": [
    {
     "data": {
      "text/plain": [
       "{1, 2, 3, 4, 5, 6, 67.6, False, 'banana', 'hello'}"
      ]
     },
     "execution_count": 70,
     "metadata": {},
     "output_type": "execute_result"
    }
   ],
   "source": [
    "set2.add(6)\n",
    "set2"
   ]
  },
  {
   "cell_type": "code",
   "execution_count": 71,
   "id": "4d500bb7-212a-4f68-b21d-9bc135ae62b9",
   "metadata": {},
   "outputs": [
    {
     "data": {
      "text/plain": [
       "{'commerce', 'computer', 'english', 'machine_learning', 'math', 'science'}"
      ]
     },
     "execution_count": 71,
     "metadata": {},
     "output_type": "execute_result"
    }
   ],
   "source": [
    "#creating another subject\n",
    "subject={'math', 'science','commerce','english'}\n",
    "sub_new={'computer','machine_learning'}\n",
    "\n",
    "#updating the set\n",
    "subject.update(sub_new)\n",
    "\n",
    "subject"
   ]
  },
  {
   "cell_type": "code",
   "execution_count": 72,
   "id": "fc6b420d-a405-49de-af18-87b3941203a0",
   "metadata": {},
   "outputs": [
    {
     "data": {
      "text/plain": [
       "{'computer', 'english', 'machine_learning', 'math', 'science'}"
      ]
     },
     "execution_count": 72,
     "metadata": {},
     "output_type": "execute_result"
    }
   ],
   "source": [
    "#Removing an element from set\n",
    "subject.remove('commerce')\n",
    "subject"
   ]
  },
  {
   "cell_type": "code",
   "execution_count": 80,
   "id": "4b7f63a8-b7bb-42c8-8065-053c43155cbd",
   "metadata": {},
   "outputs": [],
   "source": [
    "#performing other operations with union method in set\n",
    "fruit_set={'apple', 'banana','kiwi','tomato','oranges'}\n",
    "veggies={'lemon','tomato','chilly'}\n",
    "\n",
    "fruit_set_1=fruit_set.union(veggies)"
   ]
  },
  {
   "cell_type": "code",
   "execution_count": 81,
   "id": "b0fa74d3-ce12-47bb-8a2e-3aa1a137164a",
   "metadata": {},
   "outputs": [
    {
     "data": {
      "text/plain": [
       "{'apple', 'banana', 'chilly', 'kiwi', 'lemon', 'oranges', 'tomato'}"
      ]
     },
     "execution_count": 81,
     "metadata": {},
     "output_type": "execute_result"
    }
   ],
   "source": [
    "fruit_set_1"
   ]
  },
  {
   "cell_type": "code",
   "execution_count": 82,
   "id": "9f72fb0e-6e14-4d70-89be-c2019187b3c5",
   "metadata": {},
   "outputs": [
    {
     "data": {
      "text/plain": [
       "{'apple', 'banana', 'kiwi', 'oranges', 'tomato'}"
      ]
     },
     "execution_count": 82,
     "metadata": {},
     "output_type": "execute_result"
    }
   ],
   "source": [
    "fruit_set"
   ]
  },
  {
   "cell_type": "code",
   "execution_count": 83,
   "id": "8421e02c-4be1-4f76-941b-5f554977ab82",
   "metadata": {},
   "outputs": [
    {
     "data": {
      "text/plain": [
       "{'apple', 'banana', 'kiwi', 'oranges'}"
      ]
     },
     "execution_count": 83,
     "metadata": {},
     "output_type": "execute_result"
    }
   ],
   "source": [
    "#set difference\n",
    "set5=fruit_set.difference(veggies)\n",
    "set5"
   ]
  },
  {
   "cell_type": "code",
   "execution_count": null,
   "id": "78ff1119-0c20-4766-8210-4c96b9c9a59b",
   "metadata": {},
   "outputs": [],
   "source": []
  }
 ],
 "metadata": {
  "kernelspec": {
   "display_name": "Python 3 (ipykernel)",
   "language": "python",
   "name": "python3"
  },
  "language_info": {
   "codemirror_mode": {
    "name": "ipython",
    "version": 3
   },
   "file_extension": ".py",
   "mimetype": "text/x-python",
   "name": "python",
   "nbconvert_exporter": "python",
   "pygments_lexer": "ipython3",
   "version": "3.9.21"
  }
 },
 "nbformat": 4,
 "nbformat_minor": 5
}
