{
 "cells": [
  {
   "cell_type": "markdown",
   "id": "a0229597-d02e-4886-bad2-de8cc1b84374",
   "metadata": {},
   "source": [
    "### **Python Loops (For and While) - May 23, 2025**"
   ]
  },
  {
   "cell_type": "markdown",
   "id": "93337721-f9bb-41f1-8baf-46c0769e4bfb",
   "metadata": {},
   "source": [
    "##### 1. **For Loop**\n",
    "##### **A Python For Loop** is used for sequence iteration in python programming. This can be used to iterate:\n",
    "- data in a list, tuple, dictionary, set\n",
    "- it can also be used to iterate strings in python operation\n",
    "\n",
    "**Examples on data structures (List, tuple, dictionary, set, etc):**"
   ]
  },
  {
   "cell_type": "code",
   "execution_count": 2,
   "id": "b31a58cd-3d6c-4842-9d0f-63ac5c5d1c5d",
   "metadata": {},
   "outputs": [
    {
     "name": "stdout",
     "output_type": "stream",
     "text": [
      "pencil\n",
      "car\n",
      "house\n",
      "phone\n",
      "mouse\n",
      "laptop\n"
     ]
    }
   ],
   "source": [
    "#Creating a list of objects\n",
    "loop_1 = [\"pencil\", \"car\", \"house\", \"phone\", \"mouse\", \"laptop\"]\n",
    "\n",
    "#performing a For loop on the list\n",
    "for x in loop_1: #this will access each item in the list\n",
    "    print(x) #this syntax will itemised the accessed items"
   ]
  },
  {
   "cell_type": "code",
   "execution_count": 3,
   "id": "5ccb6907-41c3-4a74-82a3-1d4fc96d460c",
   "metadata": {},
   "outputs": [
    {
     "name": "stdout",
     "output_type": "stream",
     "text": [
      "h\n",
      "o\n",
      "u\n",
      "s\n",
      "e\n"
     ]
    }
   ],
   "source": [
    "#another example\n",
    "for x in loop_1[2]:\n",
    "    print(x)"
   ]
  },
  {
   "cell_type": "markdown",
   "id": "3ee61327-71be-4879-8ffd-ebff6de23c09",
   "metadata": {},
   "source": [
    "#### **Break Statement in For Loop**"
   ]
  },
  {
   "cell_type": "code",
   "execution_count": 4,
   "id": "957248e1-05d1-43be-b2e1-d35072d13711",
   "metadata": {},
   "outputs": [
    {
     "name": "stdout",
     "output_type": "stream",
     "text": [
      "pencil\n"
     ]
    }
   ],
   "source": [
    "#Using a For Loop to implement break statement\n",
    "for x in loop_1:\n",
    "    print(x)\n",
    "    if x == \"pencil\":\n",
    "        break"
   ]
  },
  {
   "cell_type": "markdown",
   "id": "717dde5a-ee0a-4c4f-8b7a-30150ef528ca",
   "metadata": {},
   "source": [
    "#### **Continue Statement in For Loop**"
   ]
  },
  {
   "cell_type": "code",
   "execution_count": 6,
   "id": "9bb26751-852e-408b-8133-ade5e1c4e208",
   "metadata": {},
   "outputs": [
    {
     "name": "stdout",
     "output_type": "stream",
     "text": [
      "pencil\n",
      "house\n",
      "phone\n",
      "mouse\n",
      "laptop\n"
     ]
    }
   ],
   "source": [
    "#Continue Statement in For Loop\n",
    "for x in loop_1:\n",
    "    if x == \"car\":\n",
    "        continue\n",
    "    print(x)"
   ]
  },
  {
   "cell_type": "markdown",
   "id": "fa4e4ec2-3a69-41ed-ab33-226fb88fd74c",
   "metadata": {},
   "source": [
    "#### **For Loop for Python Range Function**"
   ]
  },
  {
   "cell_type": "code",
   "execution_count": 10,
   "id": "a61eb776-efa9-4ce0-b1bc-101c0678d90a",
   "metadata": {},
   "outputs": [
    {
     "name": "stdout",
     "output_type": "stream",
     "text": [
      "0\n",
      "1\n",
      "2\n",
      "3\n"
     ]
    }
   ],
   "source": [
    "for l in range(20):\n",
    "    print(l)\n",
    "    if l == 3:\n",
    "        break\n",
    "    "
   ]
  },
  {
   "cell_type": "markdown",
   "id": "eda5c87d-d8d5-416d-a3a1-e860118bd991",
   "metadata": {},
   "source": [
    "#### **For Loop for sequence increment in python** "
   ]
  },
  {
   "cell_type": "code",
   "execution_count": 11,
   "id": "0ab7e519-cebb-4166-96ba-eda3e9619721",
   "metadata": {},
   "outputs": [
    {
     "name": "stdout",
     "output_type": "stream",
     "text": [
      "1\n",
      "3\n",
      "5\n",
      "7\n",
      "9\n"
     ]
    }
   ],
   "source": [
    "#Creating a range function for integers 1 to 10 and increment by 2\n",
    "for z in range(1, 10, 2):\n",
    "    print(z)"
   ]
  },
  {
   "cell_type": "markdown",
   "id": "aea90b7a-c19c-4bd4-b75b-58caf051d5aa",
   "metadata": {},
   "source": [
    "#### **Else and If in For Loop**"
   ]
  },
  {
   "cell_type": "code",
   "execution_count": 17,
   "id": "c9283e50-bf63-4c8b-9daa-7dcd9b2f20a8",
   "metadata": {},
   "outputs": [
    {
     "name": "stdout",
     "output_type": "stream",
     "text": [
      "0\n",
      "1\n",
      "2\n",
      "3\n",
      "4\n"
     ]
    }
   ],
   "source": [
    "#Else statement in For Loop\n",
    "for l in range(5):\n",
    "    print(l)\n",
    "    if l == 6:\n",
    "        break\n",
    "    else:\n",
    "        continue"
   ]
  },
  {
   "cell_type": "markdown",
   "id": "53b8e792-33a9-4f57-8558-9a527784c847",
   "metadata": {},
   "source": [
    "#### **Nested Loop**\n",
    "##### A nested loop simply means loop inside loop.\n",
    "\n",
    "##### For Example:"
   ]
  },
  {
   "cell_type": "code",
   "execution_count": 18,
   "id": "25fac97c-5615-448f-ae28-dec621360923",
   "metadata": {},
   "outputs": [
    {
     "name": "stdout",
     "output_type": "stream",
     "text": [
      "name children\n",
      "name son\n",
      "name daughter\n",
      "name siblings\n",
      "house children\n",
      "house son\n",
      "house daughter\n",
      "house siblings\n",
      "face children\n",
      "face son\n",
      "face daughter\n",
      "face siblings\n",
      "body children\n",
      "body son\n",
      "body daughter\n",
      "body siblings\n"
     ]
    }
   ],
   "source": [
    "loop_2 = [\"name\", \"house\", \"face\", \"body\"]\n",
    "loop_3 = [\"children\", \"son\", \"daughter\", \"siblings\"]\n",
    "\n",
    "for x in loop_2:\n",
    "    for y in loop_3:\n",
    "        print(x,y)"
   ]
  },
  {
   "cell_type": "markdown",
   "id": "b87134ab-bc30-4292-945b-c8959168d0ff",
   "metadata": {},
   "source": [
    "##### **The Pass Statement in For Loop:**"
   ]
  },
  {
   "cell_type": "code",
   "execution_count": 25,
   "id": "0a414dd0-2b98-4b47-bbc4-397f2aa12ca8",
   "metadata": {},
   "outputs": [
    {
     "name": "stdout",
     "output_type": "stream",
     "text": [
      "body\n"
     ]
    }
   ],
   "source": [
    "for x in loop_2:\n",
    "    if x == \"face\":\n",
    "        pass\n",
    "print(x)"
   ]
  },
  {
   "cell_type": "code",
   "execution_count": null,
   "id": "68c8f0a6-9d12-4aae-a644-6e5584f70839",
   "metadata": {},
   "outputs": [],
   "source": []
  },
  {
   "cell_type": "code",
   "execution_count": null,
   "id": "f8c0af98-e9fc-4c27-9ec5-511c411f20ea",
   "metadata": {},
   "outputs": [],
   "source": []
  },
  {
   "cell_type": "markdown",
   "id": "ed84db2e-5889-461b-a1d3-5c17ee568ee4",
   "metadata": {},
   "source": [
    " #### **2. While Loop**\n",
    "\n",
    " - ##### The while loop will keep executing a set of statements as long as a condition is true.\n",
    " - ##### This is also called \"post increment\" loop"
   ]
  },
  {
   "cell_type": "code",
   "execution_count": 26,
   "id": "22b678f0-05f1-472c-b4f6-066f50e80d8a",
   "metadata": {},
   "outputs": [
    {
     "name": "stdout",
     "output_type": "stream",
     "text": [
      "Customer number 1 is arriving\n",
      "Customer number 2 is arriving\n",
      "Customer number 3 is arriving\n",
      "Customer number 4 is arriving\n",
      "Customer number 5 is arriving\n",
      "Customer number 6 is arriving\n",
      "Customer number 7 is arriving\n",
      "Customer number 8 is arriving\n",
      "Customer number 9 is arriving\n",
      "Customer number 10 is arriving\n",
      "Customer number 11 is arriving\n",
      "Customer number 12 is arriving\n",
      "Customer number 13 is arriving\n",
      "Customer number 14 is arriving\n",
      "Customer number 15 is arriving\n",
      "Customer number 16 is arriving\n",
      "Customer number 17 is arriving\n",
      "Customer number 18 is arriving\n",
      "Customer number 19 is arriving\n",
      "Customer number 20 is arriving\n"
     ]
    }
   ],
   "source": [
    "#Example of while loop\n",
    "count = 1\n",
    "while count <= 20:\n",
    "    print(\"Customer number\", count, \"is arriving\")\n",
    "    count+=1"
   ]
  },
  {
   "cell_type": "code",
   "execution_count": 27,
   "id": "0a345e44-d696-4bd4-b7ed-41f5a89a42fe",
   "metadata": {},
   "outputs": [
    {
     "name": "stdout",
     "output_type": "stream",
     "text": [
      "Hello\n",
      "Hello\n",
      "Hello\n",
      "Hello\n",
      "Hello\n"
     ]
    }
   ],
   "source": [
    "#Another instance\n",
    "#To print hello using while loop\n",
    "count = 1\n",
    "while count <= 5:\n",
    "    print(\"Hello\")\n",
    "    count+=1"
   ]
  },
  {
   "cell_type": "code",
   "execution_count": 28,
   "id": "dc10cccb-594d-4fa2-8b30-3ba19ded26f6",
   "metadata": {},
   "outputs": [
    {
     "name": "stdout",
     "output_type": "stream",
     "text": [
      "2\n",
      "4\n",
      "6\n",
      "8\n",
      "10\n",
      "12\n",
      "14\n",
      "16\n",
      "18\n",
      "20\n"
     ]
    }
   ],
   "source": [
    "##### pring first even no using while loop\n",
    "n = 2\n",
    "while n <= 20:\n",
    "    print(n)\n",
    "    n+=2"
   ]
  },
  {
   "cell_type": "code",
   "execution_count": 29,
   "id": "52e6c14d-9563-4e71-9cd2-fff2a383ae4e",
   "metadata": {},
   "outputs": [
    {
     "name": "stdout",
     "output_type": "stream",
     "text": [
      "55\n"
     ]
    }
   ],
   "source": [
    "#print the sum of first 10 natural no using while loop\n",
    "num=10\n",
    "add=0\n",
    "while num>=1:\n",
    "    add=add+num\n",
    "    num=num-1\n",
    "\n",
    "print(add)"
   ]
  },
  {
   "cell_type": "code",
   "execution_count": 30,
   "id": "ae04eb97-7d3a-4d8c-aab2-cbfd8aea5182",
   "metadata": {},
   "outputs": [
    {
     "name": "stdout",
     "output_type": "stream",
     "text": [
      "55\n"
     ]
    }
   ],
   "source": [
    "#Another method\n",
    "um=1\n",
    "add=0\n",
    "while num<=10:\n",
    "    add=add+num\n",
    "    num=num+1\n",
    "\n",
    "print(add)"
   ]
  },
  {
   "cell_type": "markdown",
   "id": "94e90d56-3af4-4d65-8506-82e43f760ecf",
   "metadata": {},
   "source": [
    "#### Using \"controlling statement\" in a while loop\n",
    "- ##### Break statement: this is to break while loop once the statement is satisfied\n",
    "- ##### Continuous : says as soon as you meet the statement skip it and go to next"
   ]
  },
  {
   "cell_type": "code",
   "execution_count": 31,
   "id": "188d3fee-fc82-4718-9f2a-8ce5e754aeba",
   "metadata": {},
   "outputs": [
    {
     "name": "stdout",
     "output_type": "stream",
     "text": [
      "welcome\n",
      "welcome\n",
      "welcome\n"
     ]
    }
   ],
   "source": [
    "#break statement instance\n",
    "n=0\n",
    "while n<5:\n",
    "    print(\"welcome\")\n",
    "    n+=1\n",
    "    if n==3:\n",
    "        break"
   ]
  },
  {
   "cell_type": "code",
   "execution_count": 32,
   "id": "46efe182-8cd3-48a6-a377-a36dc92783f0",
   "metadata": {},
   "outputs": [
    {
     "name": "stdout",
     "output_type": "stream",
     "text": [
      "1\n",
      "3\n",
      "4\n"
     ]
    }
   ],
   "source": [
    "#continuous statement\n",
    "n=1\n",
    "while n<5:\n",
    "    if n==2:\n",
    "        n+=1\n",
    "        continue\n",
    "    print(n)\n",
    "    n=n+1"
   ]
  },
  {
   "cell_type": "code",
   "execution_count": 33,
   "id": "eb51fb98-c060-4afb-82bc-a5c2cf6f025c",
   "metadata": {},
   "outputs": [],
   "source": [
    "#Another example of While Loop\n",
    "num = 0\n",
    "sum = 0 \n",
    "\n",
    "while True:  \n",
    "    sum += num \n",
    "    num += 1  \n",
    "    if num == 6:  \n",
    "        break      "
   ]
  },
  {
   "cell_type": "code",
   "execution_count": 34,
   "id": "1075055e-3596-4564-853c-a478a2d32182",
   "metadata": {},
   "outputs": [
    {
     "name": "stdout",
     "output_type": "stream",
     "text": [
      "Sum of first five numbers: 15\n"
     ]
    }
   ],
   "source": [
    "print(\"Sum of first five numbers:\", sum)"
   ]
  }
 ],
 "metadata": {
  "kernelspec": {
   "display_name": "Python 3 (ipykernel)",
   "language": "python",
   "name": "python3"
  },
  "language_info": {
   "codemirror_mode": {
    "name": "ipython",
    "version": 3
   },
   "file_extension": ".py",
   "mimetype": "text/x-python",
   "name": "python",
   "nbconvert_exporter": "python",
   "pygments_lexer": "ipython3",
   "version": "3.9.21"
  }
 },
 "nbformat": 4,
 "nbformat_minor": 5
}
